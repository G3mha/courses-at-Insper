{
 "cells": [
  {
   "cell_type": "markdown",
   "metadata": {},
   "source": [
    "# Instructions\n",
    "\n",
    "### Objective: acquire an audio that is currently playing and decode it to the corresponding number in the DTMF keyboard (from 0 to 9).\n",
    "\n",
    "1º Step: after declaring the standard params, calculate the amount of samples that be acquired during the recording. You must use the sampling rate and the recording duration for that.\n",
    "\n",
    "2º Step: print a warning message informing the recording will start in `n` seconds, then use a `time.sleep` to wait that amount of time.\n",
    "\n",
    "3º Step: \n",
    "\n",
    "4º Step: \n",
    "\n",
    "Obs1: \n",
    "\n",
    "Obs2: "
   ]
  },
  {
   "cell_type": "code",
   "execution_count": 9,
   "metadata": {},
   "outputs": [],
   "source": [
    "from suaBibSignal import *\n",
    "import peakutils # possible turn-arounds: ```from detect_peaks import *``` or ```import pickle```\n",
    "import numpy as np\n",
    "import sounddevice as sd\n",
    "import matplotlib.pyplot as plt\n",
    "import time"
   ]
  },
  {
   "cell_type": "code",
   "execution_count": 10,
   "metadata": {},
   "outputs": [
    {
     "name": "stdout",
     "output_type": "stream",
     "text": [
      "Starting decoder\n",
      "Generating base tones\n"
     ]
    }
   ],
   "source": [
    "print('Starting decoder\\nGenerating base tones')\n",
    "signal = signalMeu() # makes an instance of the class used to generate the signal\n",
    "sd.default.samplerate = 1 # default sampling rate (Hz)\n",
    "sd.default.channels = 2 # tipically the sound boards are 2 channeled (when recording, it will return two lists). If doenst work, try with 1\n",
    "duration = 10 # a little longer than the time that the signal is being played\n",
    "frequency_table = [[941, 1336],[697, 1209],[697, 1336],[697, 1477],[770, 1209],[770, 1336],[770, 1477],[852, 1209],[852, 1336],[852, 1477]] # list of corresponding frequencies for each number in DMTF table\n",
    "sampling_rate = 44100 # true sampling rate (Hz)\n",
    "samples_amount = duration * sampling_rate # number of samples to be recorded"
   ]
  },
  {
   "cell_type": "code",
   "execution_count": 11,
   "metadata": {},
   "outputs": [
    {
     "name": "stdout",
     "output_type": "stream",
     "text": [
      "Starting recording in 2 seconds\n",
      "Recording...\n",
      "...Recording finished\n"
     ]
    }
   ],
   "source": [
    "time2prepare = 2 # time to prepare the recording\n",
    "print(f'Starting recording in {time2prepare} seconds')\n",
    "time.sleep(time2prepare)\n",
    "print('Recording...')\n",
    "audio = sd.rec(samples_amount, sampling_rate, channels=1) # records the audio\n",
    "sd.wait() # waits for the recording to finish\n",
    "print(\"...Recording finished\")"
   ]
  },
  {
   "cell_type": "code",
   "execution_count": 12,
   "metadata": {},
   "outputs": [
    {
     "data": {
      "image/png": "[encoded data removed]",
      "text/plain": [
       "<Figure size 640x480 with 1 Axes>"
      ]
     },
     "metadata": {},
     "output_type": "display_data"
    },
    {
     "name": "stdout",
     "output_type": "stream",
     "text": [
      "index de picos [   18   223  7700 12090 16480]\n",
      "frequencias de pico [   1.80000816   22.30010113  770.00349208 1209.00548302 1648.00747396]\n"
     ]
    }
   ],
   "source": [
    "y = audio[:, 0] # extracts the audio data from the audio variable\n",
    "\n",
    "## Calcule e plote o Fourier do sinal audio. como saida tem-se a amplitude e as frequencias\n",
    "signal.plotFFT(y, sampling_rate)\n",
    "plt.xlim(0, 2000)\n",
    "plt.show()\n",
    "\n",
    "\n",
    "# use a funcao linspace e crie o vetor tempo. Um instante correspondente a cada amostra\n",
    "# plot do áudio gravado (dados) vs tempo! Não plote todos os pontos, pois verá apenas uma mancha (freq altas) . \n",
    "\n",
    "\n",
    "\n",
    "xf, yf = signal.calcFFT(y, sampling_rate)\n",
    "#agora, voce tem os picos da transformada, que te informam quais sao as frequencias mais presentes no sinal. Alguns dos picos devem ser correspondentes às frequencias do DTMF!\n",
    "#Para descobrir a tecla pressionada, voce deve extrair os picos e compara-los à tabela DTMF\n",
    "#Provavelmente, se tudo deu certo, 2 picos serao PRÓXIMOS aos valores da tabela. Os demais serão picos de ruídos.\n",
    "\n",
    "# para extrair os picos, voce deve utilizar a funcao peakutils.indexes(,,)\n",
    "# Essa funcao possui como argumentos dois parâmetros importantes: \"thres\" e \"min_dist\".\n",
    "# \"thres\" determina a sensibilidade da funcao, ou seja, quao elevado tem que ser o valor do pico para de fato ser considerado um pico\n",
    "#\"min_dist\" é relatico tolerancia. Ele determina quao próximos 2 picos identificados podem estar, ou seja, se a funcao indentificar um pico na posicao 200, por exemplo, só identificara outro a partir do 200+min_dis. Isso evita que varios picos sejam identificados em torno do 200, uma vez que todos sejam provavelmente resultado de pequenas variações de uma unica frequencia a ser identificada.   \n",
    "# Comece com os valores:\n",
    "index = peakutils.indexes(yf, thres=0.2, min_dist=150)\n",
    "print(\"index de picos {}\" .format(index)) #yf é o resultado da transformada de fourier\n",
    "#printe os picos encontrados! \n",
    "print(\"frequencias de pico {}\" .format(xf[index])) #xf é o vetor das frequencias\n"
   ]
  },
  {
   "cell_type": "code",
   "execution_count": 14,
   "metadata": {},
   "outputs": [
    {
     "name": "stdout",
     "output_type": "stream",
     "text": [
      "Erro: [0.0034920793291348673, 0.005483018063614509]\n",
      "Pressed key: 4\n"
     ]
    }
   ],
   "source": [
    "peak_frequencies = xf[index]\n",
    "\n",
    "error_list = []\n",
    "true_peak_frequencies = []\n",
    "\n",
    "for peak in peak_frequencies:\n",
    "    for frequency_duo in frequency_table:\n",
    "        for frequency in frequency_duo:\n",
    "            if peak >= frequency - 1 and peak <= frequency + 1:\n",
    "                if frequency not in true_peak_frequencies:\n",
    "                    error_list.append(abs(peak - frequency))\n",
    "                    true_peak_frequencies.append(frequency)\n",
    "\n",
    "key_pressed = frequency_table.index(true_peak_frequencies)\n",
    "print(f'Erro: {error_list}')\n",
    "print(f'Pressed key: {key_pressed}')"
   ]
  }
 ],
 "metadata": {
  "kernelspec": {
   "display_name": "Python 3.10.6 ('venv': venv)",
   "language": "python",
   "name": "python3"
  },
  "language_info": {
   "codemirror_mode": {
    "name": "ipython",
    "version": 3
   },
   "file_extension": ".py",
   "mimetype": "text/x-python",
   "name": "python",
   "nbconvert_exporter": "python",
   "pygments_lexer": "ipython3",
   "version": "3.10.6"
  },
  "orig_nbformat": 4,
  "vscode": {
   "interpreter": {
    "hash": "3aade21a66c08c21627225540b1ce8f119e2000a8c150aae8b98a0cf3cc09c7d"
   }
  }
 },
 "nbformat": 4,
 "nbformat_minor": 2
}
